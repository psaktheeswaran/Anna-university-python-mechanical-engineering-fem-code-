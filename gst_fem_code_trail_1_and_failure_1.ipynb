{
  "nbformat": 4,
  "nbformat_minor": 0,
  "metadata": {
    "colab": {
      "provenance": [],
      "authorship_tag": "ABX9TyN4dJC5wqLtwcrr3/S3LNOa",
      "include_colab_link": true
    },
    "kernelspec": {
      "name": "python3",
      "display_name": "Python 3"
    },
    "language_info": {
      "name": "python"
    }
  },
  "cells": [
    {
      "cell_type": "markdown",
      "metadata": {
        "id": "view-in-github",
        "colab_type": "text"
      },
      "source": [
        "<a href=\"https://colab.research.google.com/github/saktheeswaranswan/python-for-mechanical-engineers-fem-python-codes-monk/blob/main/gst_fem_code_trail_1_and_failure_1.ipynb\" target=\"_parent\"><img src=\"https://colab.research.google.com/assets/colab-badge.svg\" alt=\"Open In Colab\"/></a>"
      ]
    },
    {
      "cell_type": "code",
      "source": [
        "# remember feed indices one by one and delete the first \n",
        "#column in the global stifness matrix to get correct \n",
        "#results since if you put global_stiffness_matrix = np.zeros((8, 8)) it starts from zero so\n",
        "# the indices are not set to it so build it for (9,9) and delete the first column \n",
        "#since iam trying for best solutoon pleae wait it will be on future \n"
      ],
      "metadata": {
        "id": "j_gloLWRgKTl"
      },
      "execution_count": null,
      "outputs": []
    },
    {
      "cell_type": "code",
      "source": [
        "import csv\n",
        "import numpy as np\n",
        "import matplotlib.pyplot as plt\n",
        "import scipy.sparse as sp\n",
        "\n",
        "# Read the CSV file with indices\n",
        "with open('/content/4indbookexk1crindi.csv', 'r') as f:\n",
        "    reader = csv.reader(f)\n",
        "    next(reader) # skip the header row\n",
        "    indices = [list(map(int, row)) for row in reader]\n",
        "\n",
        "# Initialize the global stiffness matrix with zeros\n",
        "global_stiffness_matrix = np.zeros((9, 9))\n",
        "\n",
        "# Define the 4x4 local stiffness matrix\n",
        "local_stiffness_matrix = np.array([[4, -1, 0, -1], [-1, 4, -1, 0], [0, -1, 4, -1], [-1, 0, -1, 4]])\n",
        "\n",
        "# Loop through the indices\n",
        "for row in indices:\n",
        "    i, j, k, l = [x-1 for x in row]\n",
        "    # Assemble the local stiffness matrix into the global stiffness matrix\n",
        "    global_stiffness_matrix[i:i+4, j:j+4] += local_stiffness_matrix\n",
        "\n",
        "# Plot the sparse plot of the global stiffness matrix\n",
        "plt.spy(sp.csc_matrix(global_stiffness_matrix))\n",
        "plt.show()\n",
        "\n",
        "# Plot the global stiffness matrix with color code to show contribution from each local stiffness matrix\n",
        "plt.imshow(global_stiffness_matrix, cmap='jet')\n",
        "for index, row in enumerate(indices):\n",
        "    i, j, k, l = [x-1 for x in row]\n",
        "    plt.imshow(local_stiffness_matrix, extent=(j, j+4, i+4, i), alpha=0.5)\n",
        "plt.colorbar()\n",
        "plt.show()\n",
        "\n",
        "# Export the global stiffness matrix to a CSV file\n",
        "np.savetxt(\"global_stiffness_matrixk1.csv\", global_stiffness_matrix, delimiter=\",\")\n",
        "\n",
        "# Export the global stiffness matrix to a text file in Python syntax\n",
        "with open(\"global_stiffness_matrixk1.txt\", \"w\") as f:\n",
        "    f.write(\"global_stiffness_matrix = \" + str(global_stiffness_matrix.tolist()))\n",
        "\n",
        "# Export the global stiffness matrix to an xlsx file\n",
        "import pandas as pd\n",
        "df = pd.DataFrame(global_stiffness_matrix)\n",
        "df.to_excel(\"global_stiffness_matrixk1.xlsx\", index=False)\n",
        "\n",
        "# Export the global stiffness matrix to an xlsx file using openpyxl\n",
        "import openpyxl\n",
        "\n",
        "wb = openpyxl.Workbook()\n",
        "sheet = wb.active\n",
        "\n",
        "for i in range(global_stiffness_matrix.shape[0]):\n",
        "    for j in range(global_stiffness_matrix.shape[1]):\n",
        "        sheet.cell(row=i+1, column=j+1, value=global_stiffness_matrix[i, j])\n",
        "\n",
        "wb.save(\"global_stiffness_matrixk1.xlsx\")\n",
        "\n"
      ],
      "metadata": {
        "colab": {
          "base_uri": "https://localhost:8080/",
          "height": 521
        },
        "id": "BsFlQVASZ4aX",
        "outputId": "e22987e1-a19a-4357-afd0-dfccac010c49"
      },
      "execution_count": 13,
      "outputs": [
        {
          "output_type": "display_data",
          "data": {
            "text/plain": [
              "<Figure size 432x288 with 1 Axes>"
            ],
            "image/png": "[encoded data removed]"
          },
          "metadata": {
            "needs_background": "light"
          }
        },
        {
          "output_type": "display_data",
          "data": {
            "text/plain": [
              "<Figure size 432x288 with 2 Axes>"
            ],
            "image/png": "[encoded data removed]"
          },
          "metadata": {
            "needs_background": "light"
          }
        }
      ]
    },
    {
      "cell_type": "code",
      "execution_count": 14,
      "metadata": {
        "colab": {
          "base_uri": "https://localhost:8080/",
          "height": 521
        },
        "id": "xupY7WJVR0FD",
        "outputId": "727c23b0-8172-4816-9a2e-31d2edd83970"
      },
      "outputs": [
        {
          "output_type": "display_data",
          "data": {
            "text/plain": [
              "<Figure size 432x288 with 1 Axes>"
            ],
            "image/png": "[encoded data removed]"
          },
          "metadata": {
            "needs_background": "light"
          }
        },
        {
          "output_type": "display_data",
          "data": {
            "text/plain": [
              "<Figure size 432x288 with 2 Axes>"
            ],
            "image/png": "[encoded data removed]"
          },
          "metadata": {
            "needs_background": "light"
          }
        }
      ],
      "source": [
        "import csv\n",
        "import numpy as np\n",
        "import matplotlib.pyplot as plt\n",
        "import scipy.sparse as sp\n",
        "\n",
        "# Read the CSV file with indices\n",
        "with open('/content/4indbookexk2.csv', 'r') as f:\n",
        "    reader = csv.reader(f)\n",
        "    next(reader) # skip the header row\n",
        "    indices = [list(map(int, row)) for row in reader]\n",
        "\n",
        "# Initialize the global stiffness matrix with zeros\n",
        "global_stiffness_matrix = np.zeros((9, 9))\n",
        "\n",
        "# Define the 4x4 local stiffness matrix\n",
        "local_stiffness_matrix = np.array([[4, -1, 0, -1], [-1, 4, -1, 0], [0, -1, 4, -1], [-1, 0, -1, 4]])\n",
        "\n",
        "# Loop through the indices\n",
        "for row in indices:\n",
        "    i, j, k, l = [x-1 for x in row]\n",
        "    # Assemble the local stiffness matrix into the global stiffness matrix\n",
        "    global_stiffness_matrix[i:i+4, j:j+4] += local_stiffness_matrix\n",
        "\n",
        "# Plot the sparse plot of the global stiffness matrix\n",
        "plt.spy(sp.csc_matrix(global_stiffness_matrix))\n",
        "plt.show()\n",
        "\n",
        "# Plot the global stiffness matrix with color code to show contribution from each local stiffness matrix\n",
        "plt.imshow(global_stiffness_matrix, cmap='jet')\n",
        "for index, row in enumerate(indices):\n",
        "    i, j, k, l = [x-1 for x in row]\n",
        "    plt.imshow(local_stiffness_matrix, extent=(j, j+4, i+4, i), alpha=0.5)\n",
        "plt.colorbar()\n",
        "plt.show()\n",
        "\n",
        "# Export the global stiffness matrix to a CSV file\n",
        "np.savetxt(\"global_stiffness_matrixk2.csv\", global_stiffness_matrix, delimiter=\",\")\n",
        "\n",
        "# Export the global stiffness matrix to a text file in Python syntax\n",
        "with open(\"global_stiffness_matrixk2.txt\", \"w\") as f:\n",
        "    f.write(\"global_stiffness_matrix = \" + str(global_stiffness_matrix.tolist()))\n",
        "\n",
        "# Export the global stiffness matrix to an xlsx file\n",
        "import pandas as pd\n",
        "df = pd.DataFrame(global_stiffness_matrix)\n",
        "df.to_excel(\"global_stiffness_matrixk2.xlsx\", index=False)\n",
        "\n",
        "# Export the global stiffness matrix to an xlsx file using openpyxl\n",
        "import openpyxl\n",
        "\n",
        "wb = openpyxl.Workbook()\n",
        "sheet = wb.active\n",
        "\n",
        "for i in range(global_stiffness_matrix.shape[0]):\n",
        "    for j in range(global_stiffness_matrix.shape[1]):\n",
        "        sheet.cell(row=i+1, column=j+1, value=global_stiffness_matrix[i, j])\n",
        "\n",
        "wb.save(\"global_stiffness_matrixk2.xlsx\")\n",
        "\n"
      ]
    },
    {
      "cell_type": "code",
      "source": [
        "import csv\n",
        "import numpy as np\n",
        "import matplotlib.pyplot as plt\n",
        "import scipy.sparse as sp\n",
        "\n",
        "# Read the CSV file with indices\n",
        "with open('/content/4indbookexk3.csv', 'r') as f:\n",
        "    reader = csv.reader(f)\n",
        "    next(reader) # skip the header row\n",
        "    indices = [list(map(int, row)) for row in reader]\n",
        "\n",
        "# Initialize the global stiffness matrix with zeros\n",
        "global_stiffness_matrix = np.zeros((9, 9))\n",
        "\n",
        "# Define the 4x4 local stiffness matrix\n",
        "local_stiffness_matrix = np.array([[4, -1, 0, -1], [-1, 4, -1, 0], [0, -1, 4, -1], [-1, 0, -1, 4]])\n",
        "\n",
        "# Loop through the indices\n",
        "for row in indices:\n",
        "    i, j, k, l = [x-1 for x in row]\n",
        "    # Assemble the local stiffness matrix into the global stiffness matrix\n",
        "    global_stiffness_matrix[i:i+4, j:j+4] += local_stiffness_matrix\n",
        "\n",
        "# Plot the sparse plot of the global stiffness matrix\n",
        "plt.spy(sp.csc_matrix(global_stiffness_matrix))\n",
        "plt.show()\n",
        "\n",
        "# Plot the global stiffness matrix with color code to show contribution from each local stiffness matrix\n",
        "plt.imshow(global_stiffness_matrix, cmap='jet')\n",
        "for index, row in enumerate(indices):\n",
        "    i, j, k, l = [x-1 for x in row]\n",
        "    plt.imshow(local_stiffness_matrix, extent=(j, j+4, i+4, i), alpha=0.5)\n",
        "plt.colorbar()\n",
        "plt.show()\n",
        "\n",
        "# Export the global stiffness matrix to a CSV file\n",
        "np.savetxt(\"global_stiffness_matrixk3.csv\", global_stiffness_matrix, delimiter=\",\")\n",
        "\n",
        "# Export the global stiffness matrix to a text file in Python syntax\n",
        "with open(\"global_stiffness_matrixk3.txt\", \"w\") as f:\n",
        "    f.write(\"global_stiffness_matrix = \" + str(global_stiffness_matrix.tolist()))\n",
        "\n",
        "# Export the global stiffness matrix to an xlsx file\n",
        "import pandas as pd\n",
        "df = pd.DataFrame(global_stiffness_matrix)\n",
        "df.to_excel(\"global_stiffness_matrixk3.xlsx\", index=False)\n",
        "\n",
        "# Export the global stiffness matrix to an xlsx file using openpyxl\n",
        "import openpyxl\n",
        "\n",
        "wb = openpyxl.Workbook()\n",
        "sheet = wb.active\n",
        "\n",
        "for i in range(global_stiffness_matrix.shape[0]):\n",
        "    for j in range(global_stiffness_matrix.shape[1]):\n",
        "        sheet.cell(row=i+1, column=j+1, value=global_stiffness_matrix[i, j])\n",
        "\n",
        "wb.save(\"global_stiffness_matrixk3.xlsx\")\n",
        "\n"
      ],
      "metadata": {
        "colab": {
          "base_uri": "https://localhost:8080/",
          "height": 521
        },
        "id": "OJpDNvdwUzsz",
        "outputId": "1d532021-71a5-4559-eb93-5cb8e3f61b68"
      },
      "execution_count": 15,
      "outputs": [
        {
          "output_type": "display_data",
          "data": {
            "text/plain": [
              "<Figure size 432x288 with 1 Axes>"
            ],
            "image/png": "[encoded data removed]"
          },
          "metadata": {
            "needs_background": "light"
          }
        },
        {
          "output_type": "display_data",
          "data": {
            "text/plain": [
              "<Figure size 432x288 with 2 Axes>"
            ],
            "image/png": "[encoded data removed]"
          },
          "metadata": {
            "needs_background": "light"
          }
        }
      ]
    },
    {
      "cell_type": "code",
      "source": [
        "import csv\n",
        "import numpy as np\n",
        "import matplotlib.pyplot as plt\n",
        "import scipy.sparse as sp\n",
        "\n",
        "# Read the CSV file with indices\n",
        "with open('/content/4indbookexk4corind.csv', 'r') as f:\n",
        "    reader = csv.reader(f)\n",
        "    next(reader) # skip the header row\n",
        "    indices = [list(map(int, row)) for row in reader]\n",
        "\n",
        "# Initialize the global stiffness matrix with zeros\n",
        "global_stiffness_matrix = np.zeros((10, 10))\n",
        "\n",
        "# Define the 4x4 local stiffness matrix\n",
        "local_stiffness_matrix = np.array([[4, -1, 0, -1], [-1, 4, -1, 0], [0, -1, 4, -1], [-1, 0, -1, 4]])\n",
        "\n",
        "# Loop through the indices\n",
        "for row in indices:\n",
        "    i, j, k, l = [x-1 for x in row]\n",
        "    # Assemble the local stiffness matrix into the global stiffness matrix\n",
        "    global_stiffness_matrix[i:i+4, j:j+4] += local_stiffness_matrix\n",
        "\n",
        "# Plot the sparse plot of the global stiffness matrix\n",
        "plt.spy(sp.csc_matrix(global_stiffness_matrix))\n",
        "plt.show()\n",
        "\n",
        "# Plot the global stiffness matrix with color code to show contribution from each local stiffness matrix\n",
        "plt.imshow(global_stiffness_matrix, cmap='jet')\n",
        "for index, row in enumerate(indices):\n",
        "    i, j, k, l = [x-1 for x in row]\n",
        "    plt.imshow(local_stiffness_matrix, extent=(j, j+4, i+4, i), alpha=0.5)\n",
        "plt.colorbar()\n",
        "plt.show()\n",
        "\n",
        "# Export the global stiffness matrix to a CSV file\n",
        "np.savetxt(\"global_stiffness_matrixk4.csv\", global_stiffness_matrix, delimiter=\",\")\n",
        "\n",
        "# Export the global stiffness matrix to a text file in Python syntax\n",
        "with open(\"global_stiffness_matrixk4.txt\", \"w\") as f:\n",
        "    f.write(\"global_stiffness_matrix = \" + str(global_stiffness_matrix.tolist()))\n",
        "\n",
        "# Export the global stiffness matrix to an xlsx file\n",
        "import pandas as pd\n",
        "df = pd.DataFrame(global_stiffness_matrix)\n",
        "df.to_excel(\"global_stiffness_matrixk4.xlsx\", index=False)\n",
        "\n",
        "# Export the global stiffness matrix to an xlsx file using openpyxl\n",
        "import openpyxl\n",
        "\n",
        "wb = openpyxl.Workbook()\n",
        "sheet = wb.active\n",
        "\n",
        "for i in range(global_stiffness_matrix.shape[0]):\n",
        "    for j in range(global_stiffness_matrix.shape[1]):\n",
        "        sheet.cell(row=i+1, column=j+1, value=global_stiffness_matrix[i, j])\n",
        "\n",
        "wb.save(\"global_stiffness_matrixk4.xlsx\")\n",
        "\n"
      ],
      "metadata": {
        "colab": {
          "base_uri": "https://localhost:8080/",
          "height": 323
        },
        "id": "47kJ8a7wf_ot",
        "outputId": "e9293615-85ef-4eef-94bd-8e0aded4f814"
      },
      "execution_count": 19,
      "outputs": [
        {
          "output_type": "error",
          "ename": "ValueError",
          "evalue": "ignored",
          "traceback": [
            "\u001b[0;31m---------------------------------------------------------------------------\u001b[0m",
            "\u001b[0;31mValueError\u001b[0m                                Traceback (most recent call last)",
            "\u001b[0;32m<ipython-input-19-282c72f5d328>\u001b[0m in \u001b[0;36m<module>\u001b[0;34m\u001b[0m\n\u001b[1;32m     20\u001b[0m     \u001b[0mi\u001b[0m\u001b[0;34m,\u001b[0m \u001b[0mj\u001b[0m\u001b[0;34m,\u001b[0m \u001b[0mk\u001b[0m\u001b[0;34m,\u001b[0m \u001b[0ml\u001b[0m \u001b[0;34m=\u001b[0m \u001b[0;34m[\u001b[0m\u001b[0mx\u001b[0m\u001b[0;34m-\u001b[0m\u001b[0;36m1\u001b[0m \u001b[0;32mfor\u001b[0m \u001b[0mx\u001b[0m \u001b[0;32min\u001b[0m \u001b[0mrow\u001b[0m\u001b[0;34m]\u001b[0m\u001b[0;34m\u001b[0m\u001b[0;34m\u001b[0m\u001b[0m\n\u001b[1;32m     21\u001b[0m     \u001b[0;31m# Assemble the local stiffness matrix into the global stiffness matrix\u001b[0m\u001b[0;34m\u001b[0m\u001b[0;34m\u001b[0m\u001b[0;34m\u001b[0m\u001b[0m\n\u001b[0;32m---> 22\u001b[0;31m     \u001b[0mglobal_stiffness_matrix\u001b[0m\u001b[0;34m[\u001b[0m\u001b[0mi\u001b[0m\u001b[0;34m:\u001b[0m\u001b[0mi\u001b[0m\u001b[0;34m+\u001b[0m\u001b[0;36m4\u001b[0m\u001b[0;34m,\u001b[0m \u001b[0mj\u001b[0m\u001b[0;34m:\u001b[0m\u001b[0mj\u001b[0m\u001b[0;34m+\u001b[0m\u001b[0;36m4\u001b[0m\u001b[0;34m]\u001b[0m \u001b[0;34m+=\u001b[0m \u001b[0mlocal_stiffness_matrix\u001b[0m\u001b[0;34m\u001b[0m\u001b[0;34m\u001b[0m\u001b[0m\n\u001b[0m\u001b[1;32m     23\u001b[0m \u001b[0;34m\u001b[0m\u001b[0m\n\u001b[1;32m     24\u001b[0m \u001b[0;31m# Plot the sparse plot of the global stiffness matrix\u001b[0m\u001b[0;34m\u001b[0m\u001b[0;34m\u001b[0m\u001b[0;34m\u001b[0m\u001b[0m\n",
            "\u001b[0;31mValueError\u001b[0m: operands could not be broadcast together with shapes (4,3) (4,4) (4,3) "
          ]
        }
      ]
    },
    {
      "cell_type": "code",
      "source": [],
      "metadata": {
        "id": "bIhuGGgBf76D"
      },
      "execution_count": null,
      "outputs": []
    },
    {
      "cell_type": "code",
      "source": [
        "#i dont know what this code will do"
      ],
      "metadata": {
        "id": "pFes-norciAt"
      },
      "execution_count": null,
      "outputs": []
    },
    {
      "cell_type": "code",
      "source": [
        "import csv\n",
        "import numpy as np\n",
        "import matplotlib.pyplot as plt\n",
        "import scipy.sparse as sp\n",
        "\n",
        "# User input for matrix size\n",
        "n = int(input(\"Enter matrix size (6 or 8): \"))\n",
        "\n",
        "# Read the CSV file with indices\n",
        "with open('/content/4indbookexk1crindi.csv', 'r') as f:\n",
        "    reader = csv.reader(f)\n",
        "    next(reader) # skip the header row\n",
        "    indices = [list(map(int, row)) for row in reader]\n",
        "\n",
        "# Initialize the global stiffness matrix with zeros\n",
        "global_stiffness_matrix = np.zeros((n, n))\n",
        "\n",
        "# Define the 4x4 local stiffness matrix\n",
        "local_stiffness_matrix = np.array([[4, -1, 0, -1], [-1, 4, -1, 0], [0, -1, 4, -1], [-1, 0, -1, 4]])\n",
        "\n",
        "# Loop through the indices\n",
        "for row in indices:\n",
        "    i, j, k, l = [x-1 for x in row]\n",
        "    i *= n//4\n",
        "    j *= n//4\n",
        "    # Assemble the local stiffness matrix into the global stiffness matrix\n",
        "    global_stiffness_matrix[i:i+4, j:j+4] += local_stiffness_matrix\n",
        "\n",
        "# Plot the sparse plot of the global stiffness matrix\n",
        "plt.spy(sp.csc_matrix(global_stiffness_matrix))\n",
        "plt.show()\n",
        "\n",
        "# Plot the global stiffness matrix with color code to show contribution from each local stiffness matrix\n",
        "plt.imshow(global_stiffness_matrix, cmap='jet')\n",
        "for index, row in enumerate(indices):\n",
        "    i, j, k, l = [x-1 for x in row]\n",
        "    i *= n//4\n",
        "    j *= n//4\n",
        "    plt.imshow(local_stiffness_matrix, extent=(j, j+4, i+4, i), alpha=0.5)\n",
        "plt.colorbar()\n",
        "plt.show()\n",
        "\n",
        "# Export the global stiffness matrix to a CSV file\n",
        "np.savetxt(\"global_stiffness_matrixk1.csv\", global_stiffness_matrix, delimiter=\",\")\n",
        "\n",
        "# Export the global stiffness matrix to a text file in Python syntax\n",
        "with open(\"global_stiffness_matrixk1.txt\", \"w\") as f:\n",
        "    f.write(\"global_stiffness_matrix = \" + str(global_stiffness_matrix.tolist()))\n",
        "\n",
        "# Export the global stiffness matrix to an xlsx file\n",
        "import pandas as pd\n",
        "df = pd.DataFrame(global_stiffness_matrix)\n",
        "df.to_excel(\"global_stiffness_matrixk1.xlsx\", index=False)"
      ],
      "metadata": {
        "id": "R24d7pOBcoJQ"
      },
      "execution_count": null,
      "outputs": []
    },
    {
      "cell_type": "code",
      "source": [
        "import numpy as np\n",
        "\n",
        "# Define the original matrix\n",
        "matrix = np.array([[0.0, 4.0, -1.0, 0.0, -1.0, 0.0, 0.0, 0.0, 0.0], [0.0, -1.0, 4.0, -1.0, 0.0, 0.0, 0.0, 0.0, 0.0], [0.0, 0.0, -1.0, 4.0, -1.0, 0.0, 0.0, 0.0, 0.0], [0.0, -1.0, 0.0, -1.0, 4.0, 0.0, 0.0, 0.0, 0.0], [0.0, 0.0, 0.0, 0.0, 0.0, 0.0, 0.0, 0.0, 0.0], [0.0, 0.0, 0.0, 0.0, 0.0, 0.0, 0.0, 0.0, 0.0], [0.0, 0.0, 0.0, 0.0, 0.0, 0.0, 0.0, 0.0, 0.0], [0.0, 0.0, 0.0, 0.0, 0.0, 0.0, 0.0, 0.0, 0.0], [0.0, 0.0, 0.0, 0.0, 0.0, 0.0, 0.0, 0.0, 0.0]])\n",
        "\n",
        "# Delete the first column of the matrix\n",
        "matrix = np.delete(matrix, 0, axis=1)\n",
        "\n",
        "# Save the matrix in a text file in Python matrix syntax format\n",
        "with open(\"matrix.txt\", \"w\") as f:\n",
        "    f.write(\"matrix = \" + str(matrix.tolist()))\n"
      ],
      "metadata": {
        "id": "BkCW_ak6epLr"
      },
      "execution_count": 17,
      "outputs": []
    },
    {
      "cell_type": "code",
      "source": [
        "#new trial\n"
      ],
      "metadata": {
        "id": "acSGQ4jRhwzw"
      },
      "execution_count": null,
      "outputs": []
    },
    {
      "cell_type": "code",
      "source": [
        "import csv\n",
        "import numpy as np\n",
        "import matplotlib.pyplot as plt\n",
        "import scipy.sparse as sp\n",
        "\n",
        "# Read the CSV file with indices\n",
        "with open('/content/4indbookexk4corind.csv', 'r') as f:\n",
        "    reader = csv.reader(f)\n",
        "    next(reader) # skip the header row\n",
        "    indices = [list(map(int, row)) for row in reader]\n",
        "\n",
        "# Initialize the global stiffness matrix with zeros\n",
        "global_stiffness_matrix = np.zeros((100, 100))\n",
        "\n",
        "# Define the 4x4 local stiffness matrix\n",
        "local_stiffness_matrix = np.array([[4, -1, 0, -1], [-1, 4, -1, 0], [0, -1, 4, -1], [-1, 0, -1, 4]])\n",
        "\n",
        "# Loop through the indices\n",
        "for row in indices:\n",
        "    i, j, k, l = row\n",
        "    # Assemble the local stiffness matrix into the global stiffness matrix\n",
        "    global_stiffness_matrix[i-1:i+4, j-1:j+4] += local_stiffness_matrix\n",
        "\n",
        "# Plot the sparse plot of the global stiffness matrix\n",
        "plt.spy(sp.csc_matrix(global_stiffness_matrix))\n",
        "plt.show()\n",
        "\n",
        "# Plot the global stiffness matrix with color code to show contribution from each local stiffness matrix\n",
        "plt.imshow(global_stiffness_matrix, cmap='jet')\n",
        "for index, row in enumerate(indices):\n",
        "    i, j, k, l = row\n",
        "    plt.imshow(local_stiffness_matrix, extent=(j-1, j+3, i+3, i-1), alpha=0.5)\n",
        "plt.colorbar()\n",
        "plt.show()\n",
        "\n",
        "# Export the global stiffness matrix to a CSV file\n",
        "np.savetxt(\"global_stiffness_matrix.csv\", global_stiffness_matrix, delimiter=\",\")\n",
        "\n",
        "# Export the global stiffness matrix to an xlsx file\n",
        "import pandas as pd\n",
        "df = pd.DataFrame(global_stiffness_matrix)\n",
        "df.to_excel(\"global_stiffness_matrix.xlsx\", index=False)\n",
        "\n",
        "# Export the global stiffness matrix to an xlsx file using openpyxl\n",
        "import openpyxl\n",
        "\n",
        "wb = openpyxl.Workbook()\n",
        "sheet = wb.active\n",
        "\n",
        "for i in range(global_stiffness_matrix.shape[0]):\n",
        "    for j in range(global_stiffness_matrix.shape[1]):\n",
        "        sheet.cell(row=i+1, column=j+1, value=global_stiffness_matrix[i, j])\n",
        "\n",
        "wb.save(\"global_stiffness_matrix.xlsx\")"
      ],
      "metadata": {
        "colab": {
          "base_uri": "https://localhost:8080/",
          "height": 323
        },
        "id": "hkQCAQ7Ch1Vb",
        "outputId": "3c377529-a1e8-44c7-ad5b-03da52985fc9"
      },
      "execution_count": 24,
      "outputs": [
        {
          "output_type": "error",
          "ename": "ValueError",
          "evalue": "ignored",
          "traceback": [
            "\u001b[0;31m---------------------------------------------------------------------------\u001b[0m",
            "\u001b[0;31mValueError\u001b[0m                                Traceback (most recent call last)",
            "\u001b[0;32m<ipython-input-24-6409f3d387ed>\u001b[0m in \u001b[0;36m<module>\u001b[0;34m\u001b[0m\n\u001b[1;32m     20\u001b[0m     \u001b[0mi\u001b[0m\u001b[0;34m,\u001b[0m \u001b[0mj\u001b[0m\u001b[0;34m,\u001b[0m \u001b[0mk\u001b[0m\u001b[0;34m,\u001b[0m \u001b[0ml\u001b[0m \u001b[0;34m=\u001b[0m \u001b[0mrow\u001b[0m\u001b[0;34m\u001b[0m\u001b[0;34m\u001b[0m\u001b[0m\n\u001b[1;32m     21\u001b[0m     \u001b[0;31m# Assemble the local stiffness matrix into the global stiffness matrix\u001b[0m\u001b[0;34m\u001b[0m\u001b[0;34m\u001b[0m\u001b[0;34m\u001b[0m\u001b[0m\n\u001b[0;32m---> 22\u001b[0;31m     \u001b[0mglobal_stiffness_matrix\u001b[0m\u001b[0;34m[\u001b[0m\u001b[0mi\u001b[0m\u001b[0;34m-\u001b[0m\u001b[0;36m1\u001b[0m\u001b[0;34m:\u001b[0m\u001b[0mi\u001b[0m\u001b[0;34m+\u001b[0m\u001b[0;36m4\u001b[0m\u001b[0;34m,\u001b[0m \u001b[0mj\u001b[0m\u001b[0;34m-\u001b[0m\u001b[0;36m1\u001b[0m\u001b[0;34m:\u001b[0m\u001b[0mj\u001b[0m\u001b[0;34m+\u001b[0m\u001b[0;36m4\u001b[0m\u001b[0;34m]\u001b[0m \u001b[0;34m+=\u001b[0m \u001b[0mlocal_stiffness_matrix\u001b[0m\u001b[0;34m\u001b[0m\u001b[0;34m\u001b[0m\u001b[0m\n\u001b[0m\u001b[1;32m     23\u001b[0m \u001b[0;34m\u001b[0m\u001b[0m\n\u001b[1;32m     24\u001b[0m \u001b[0;31m# Plot the sparse plot of the global stiffness matrix\u001b[0m\u001b[0;34m\u001b[0m\u001b[0;34m\u001b[0m\u001b[0;34m\u001b[0m\u001b[0m\n",
            "\u001b[0;31mValueError\u001b[0m: operands could not be broadcast together with shapes (5,5) (4,4) (5,5) "
          ]
        }
      ]
    }
  ]
}